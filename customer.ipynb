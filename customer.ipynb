{
 "cells": [
  {
   "cell_type": "markdown",
   "metadata": {},
   "source": [
    "Data Exploration"
   ]
  },
  {
   "cell_type": "code",
   "execution_count": 2,
   "metadata": {},
   "outputs": [],
   "source": [
    "import pandas as pd\n",
    "import os\n",
    "\n",
    "os.chdir(\"/Users/claud/OneDrive/Ambiente de Trabalho/Ciencia de dados/Projeto\")\n",
    "\n",
    "df = pd.read_csv('customer.csv')"
   ]
  },
  {
   "cell_type": "code",
   "execution_count": 6,
   "metadata": {},
   "outputs": [
    {
     "data": {
      "text/html": [
       "<div>\n",
       "<style scoped>\n",
       "    .dataframe tbody tr th:only-of-type {\n",
       "        vertical-align: middle;\n",
       "    }\n",
       "\n",
       "    .dataframe tbody tr th {\n",
       "        vertical-align: top;\n",
       "    }\n",
       "\n",
       "    .dataframe thead th {\n",
       "        text-align: right;\n",
       "    }\n",
       "</style>\n",
       "<table border=\"1\" class=\"dataframe\">\n",
       "  <thead>\n",
       "    <tr style=\"text-align: right;\">\n",
       "      <th></th>\n",
       "      <th>Unnamed: 0</th>\n",
       "      <th>custid</th>\n",
       "      <th>sex</th>\n",
       "      <th>is_employed</th>\n",
       "      <th>income</th>\n",
       "      <th>marital_status</th>\n",
       "      <th>health_ins</th>\n",
       "      <th>housing_type</th>\n",
       "      <th>num_vehicles</th>\n",
       "      <th>age</th>\n",
       "      <th>state_of_res</th>\n",
       "      <th>code_column</th>\n",
       "      <th>gas_usage</th>\n",
       "      <th>rooms</th>\n",
       "      <th>recent_move_b</th>\n",
       "    </tr>\n",
       "  </thead>\n",
       "  <tbody>\n",
       "    <tr>\n",
       "      <th>0</th>\n",
       "      <td>7</td>\n",
       "      <td>000006646_03</td>\n",
       "      <td>Male</td>\n",
       "      <td>True</td>\n",
       "      <td>22000.0</td>\n",
       "      <td>Never married</td>\n",
       "      <td>True</td>\n",
       "      <td>Homeowner free and clear</td>\n",
       "      <td>0.0</td>\n",
       "      <td>24</td>\n",
       "      <td>Alabama</td>\n",
       "      <td>1047</td>\n",
       "      <td>210.0</td>\n",
       "      <td>3</td>\n",
       "      <td>F</td>\n",
       "    </tr>\n",
       "    <tr>\n",
       "      <th>1</th>\n",
       "      <td>8</td>\n",
       "      <td>000007827_01</td>\n",
       "      <td>Female</td>\n",
       "      <td>NaN</td>\n",
       "      <td>23200.0</td>\n",
       "      <td>Divorced/Separated</td>\n",
       "      <td>True</td>\n",
       "      <td>Rented</td>\n",
       "      <td>0.0</td>\n",
       "      <td>82</td>\n",
       "      <td>Alabama</td>\n",
       "      <td>1047</td>\n",
       "      <td>3.0</td>\n",
       "      <td>6</td>\n",
       "      <td>T</td>\n",
       "    </tr>\n",
       "    <tr>\n",
       "      <th>2</th>\n",
       "      <td>9</td>\n",
       "      <td>000008359_04</td>\n",
       "      <td>Female</td>\n",
       "      <td>True</td>\n",
       "      <td>21000.0</td>\n",
       "      <td>Never married</td>\n",
       "      <td>True</td>\n",
       "      <td>Homeowner with mortgage/loan</td>\n",
       "      <td>2.0</td>\n",
       "      <td>31</td>\n",
       "      <td>Alabama</td>\n",
       "      <td>1047</td>\n",
       "      <td>40.0</td>\n",
       "      <td>3</td>\n",
       "      <td>F</td>\n",
       "    </tr>\n",
       "    <tr>\n",
       "      <th>3</th>\n",
       "      <td>10</td>\n",
       "      <td>000008529_01</td>\n",
       "      <td>Female</td>\n",
       "      <td>NaN</td>\n",
       "      <td>37770.0</td>\n",
       "      <td>Widowed</td>\n",
       "      <td>True</td>\n",
       "      <td>Homeowner free and clear</td>\n",
       "      <td>1.0</td>\n",
       "      <td>93</td>\n",
       "      <td>Alabama</td>\n",
       "      <td>1047</td>\n",
       "      <td>120.0</td>\n",
       "      <td>2</td>\n",
       "      <td>F</td>\n",
       "    </tr>\n",
       "    <tr>\n",
       "      <th>4</th>\n",
       "      <td>11</td>\n",
       "      <td>000008744_02</td>\n",
       "      <td>Male</td>\n",
       "      <td>True</td>\n",
       "      <td>39000.0</td>\n",
       "      <td>Divorced/Separated</td>\n",
       "      <td>True</td>\n",
       "      <td>Rented</td>\n",
       "      <td>2.0</td>\n",
       "      <td>67</td>\n",
       "      <td>Alabama</td>\n",
       "      <td>1047</td>\n",
       "      <td>3.0</td>\n",
       "      <td>2</td>\n",
       "      <td>F</td>\n",
       "    </tr>\n",
       "  </tbody>\n",
       "</table>\n",
       "</div>"
      ],
      "text/plain": [
       "   Unnamed: 0        custid     sex is_employed   income      marital_status  \\\n",
       "0           7  000006646_03    Male        True  22000.0       Never married   \n",
       "1           8  000007827_01  Female         NaN  23200.0  Divorced/Separated   \n",
       "2           9  000008359_04  Female        True  21000.0       Never married   \n",
       "3          10  000008529_01  Female         NaN  37770.0             Widowed   \n",
       "4          11  000008744_02    Male        True  39000.0  Divorced/Separated   \n",
       "\n",
       "   health_ins                  housing_type  num_vehicles  age state_of_res  \\\n",
       "0        True      Homeowner free and clear           0.0   24      Alabama   \n",
       "1        True                        Rented           0.0   82      Alabama   \n",
       "2        True  Homeowner with mortgage/loan           2.0   31      Alabama   \n",
       "3        True      Homeowner free and clear           1.0   93      Alabama   \n",
       "4        True                        Rented           2.0   67      Alabama   \n",
       "\n",
       "   code_column  gas_usage  rooms recent_move_b  \n",
       "0         1047      210.0      3             F  \n",
       "1         1047        3.0      6             T  \n",
       "2         1047       40.0      3             F  \n",
       "3         1047      120.0      2             F  \n",
       "4         1047        3.0      2             F  "
      ]
     },
     "execution_count": 6,
     "metadata": {},
     "output_type": "execute_result"
    }
   ],
   "source": [
    "df.head()"
   ]
  },
  {
   "cell_type": "code",
   "execution_count": 7,
   "metadata": {},
   "outputs": [
    {
     "data": {
      "text/plain": [
       "Unnamed: 0          int64\n",
       "custid             object\n",
       "sex                object\n",
       "is_employed        object\n",
       "income            float64\n",
       "marital_status     object\n",
       "health_ins           bool\n",
       "housing_type       object\n",
       "num_vehicles      float64\n",
       "age                 int64\n",
       "state_of_res       object\n",
       "code_column         int64\n",
       "gas_usage         float64\n",
       "rooms               int64\n",
       "recent_move_b      object\n",
       "dtype: object"
      ]
     },
     "execution_count": 7,
     "metadata": {},
     "output_type": "execute_result"
    }
   ],
   "source": [
    "df.dtypes"
   ]
  },
  {
   "cell_type": "code",
   "execution_count": 14,
   "metadata": {},
   "outputs": [
    {
     "data": {
      "text/plain": [
       "is_employed\n",
       "True     44630\n",
       "False     2313\n",
       "Name: count, dtype: int64"
      ]
     },
     "execution_count": 14,
     "metadata": {},
     "output_type": "execute_result"
    }
   ],
   "source": [
    "df[\"is_employed\"].value_counts()"
   ]
  }
 ],
 "metadata": {
  "kernelspec": {
   "display_name": "Python 3",
   "language": "python",
   "name": "python3"
  },
  "language_info": {
   "codemirror_mode": {
    "name": "ipython",
    "version": 3
   },
   "file_extension": ".py",
   "mimetype": "text/x-python",
   "name": "python",
   "nbconvert_exporter": "python",
   "pygments_lexer": "ipython3",
   "version": "3.9.0"
  }
 },
 "nbformat": 4,
 "nbformat_minor": 2
}
